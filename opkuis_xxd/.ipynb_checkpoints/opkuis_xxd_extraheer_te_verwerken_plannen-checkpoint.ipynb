{
 "cells": [
  {
   "cell_type": "code",
   "execution_count": 1,
   "metadata": {},
   "outputs": [
    {
     "data": {
      "text/plain": [
       "'W:\\\\NVLA002\\\\Geolig\\\\Datalig'"
      ]
     },
     "execution_count": 1,
     "metadata": {},
     "output_type": "execute_result"
    }
   ],
   "source": [
    "import os\n",
    "import shutil\n",
    "os.chdir(\"W:\\\\NVLA002\\\\Geolig\\\\Datalig\")\n",
    "os.getcwd()"
   ]
  },
  {
   "cell_type": "code",
   "execution_count": 15,
   "metadata": {},
   "outputs": [],
   "source": [
    "folder = '082158' #INVULLEN\n",
    "extract_dirc = os.getcwd() + \"\\\\\" + folder\n",
    "\n",
    "#inladen plannen vanuit notepad naar list \"plannen\"\n",
    "dirc_plannen = \"C:\\\\temp\\\\opkuis xxd\\\\plannen.txt\"\n",
    "with open(dirc_plannen, \"r\") as f:\n",
    "    lines = f.readlines()\n",
    "    split_lines = [line.split(\"\\n\") for line in lines]\n",
    "    plannen = [line[0] for line in split_lines]\n",
    "\n",
    "for plan in plannen:\n",
    "    if plan in os.listdir(extract_dirc):\n",
    "        shutil.copy(extract_dirc+\"\\\\\"+plan, \"C:\\\\temp\\\\opkuis xxd\\\\\"+plan)\n",
    "    else: \n",
    "        print(\"Plan \" + plan + \" bestaat niet in folder!\")\n",
    "        "
   ]
  },
  {
   "cell_type": "code",
   "execution_count": null,
   "metadata": {
    "collapsed": true
   },
   "outputs": [],
   "source": []
  }
 ],
 "metadata": {
  "kernelspec": {
   "display_name": "Python 3",
   "language": "python",
   "name": "python3"
  },
  "language_info": {
   "codemirror_mode": {
    "name": "ipython",
    "version": 3
   },
   "file_extension": ".py",
   "mimetype": "text/x-python",
   "name": "python",
   "nbconvert_exporter": "python",
   "pygments_lexer": "ipython3",
   "version": "3.6.2"
  }
 },
 "nbformat": 4,
 "nbformat_minor": 2
}
