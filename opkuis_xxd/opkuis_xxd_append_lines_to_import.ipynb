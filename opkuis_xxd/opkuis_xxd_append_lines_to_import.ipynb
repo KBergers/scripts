{
 "cells": [
  {
   "cell_type": "code",
   "execution_count": 2,
   "metadata": {},
   "outputs": [
    {
     "data": {
      "text/plain": [
       "'C:\\\\Cleanseed\\\\Import'"
      ]
     },
     "execution_count": 2,
     "metadata": {},
     "output_type": "execute_result"
    }
   ],
   "source": [
    "import os\n",
    "import shutil\n",
    "os.chdir(\"C:\\\\Cleanseed\\\\Import\")\n",
    "os.getcwd()"
   ]
  },
  {
   "cell_type": "code",
   "execution_count": 7,
   "metadata": {
    "collapsed": true
   },
   "outputs": [],
   "source": [
    "#inladen plannen vanuit notepad naar list \"plannen\"\n",
    "from functions import laad_plannen\n",
    "dirc_plannen = \"C:\\\\temp\\\\opkuis xxd\\\\plannen.txt\"\n",
    "plannen = laad_plannen(dirc_plannen)]\n",
    "\n",
    "file = \"import.txt\"\n",
    "\n",
    "#delete sourcefile lines\n",
    "with open(\"import.txt\", \"r\") as f:\n",
    "    lines = f.readlines()\n",
    "\n",
    "#append new sourcefile lines\n",
    "with open(\"import.txt\", \"w\") as f:\n",
    "    for line  in lines:\n",
    "        if \"sourcefile\" not in line:\n",
    "            f.write(line)\n",
    "    for plan in plannen:\n",
    "        f.write(\"sourcefile:C:\\Cleanseed\\Plannen\\OVD\\\\\" + plan + \"\\n\")\n"
   ]
  },
  {
   "cell_type": "code",
   "execution_count": 2,
   "metadata": {},
   "outputs": [
    {
     "name": "stdout",
     "output_type": "stream",
     "text": [
      "ovd\n"
     ]
    }
   ],
   "source": [
    "\tplan = plannen[0]\n",
    "\tdiscipline = plan[len(plan)-3:]\n",
    "\tprint(discipline)"
   ]
  },
  {
   "cell_type": "code",
   "execution_count": null,
   "metadata": {
    "collapsed": true
   },
   "outputs": [],
   "source": []
  }
 ],
 "metadata": {
  "kernelspec": {
   "display_name": "Python 3",
   "language": "python",
   "name": "python3"
  },
  "language_info": {
   "codemirror_mode": {
    "name": "ipython",
    "version": 3
   },
   "file_extension": ".py",
   "mimetype": "text/x-python",
   "name": "python",
   "nbconvert_exporter": "python",
   "pygments_lexer": "ipython3",
   "version": "3.6.2"
  }
 },
 "nbformat": 4,
 "nbformat_minor": 2
}
