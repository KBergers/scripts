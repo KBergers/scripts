{
 "cells": [
  {
   "cell_type": "code",
   "execution_count": 8,
   "metadata": {},
   "outputs": [
    {
     "data": {
      "text/plain": [
       "'W:\\\\NVLA002\\\\Geolig\\\\Datalig'"
      ]
     },
     "execution_count": 8,
     "metadata": {},
     "output_type": "execute_result"
    }
   ],
   "source": [
    "import os\n",
    "import shutil\n",
    "os.chdir(\"W:\\\\NVLA002\\\\Geolig\\\\Datalig\")\n",
    "os.getcwd()"
   ]
  },
  {
   "cell_type": "code",
   "execution_count": 10,
   "metadata": {
    "collapsed": true
   },
   "outputs": [],
   "source": [
    "dirc = os.getcwd() + \"\\\\\"\n",
    "folder = '082158' + \"\\\\\" #INVULLEN\n",
    "\n",
    "#inladen plannen vanuit notepad naar list \"plannen\"\n",
    "dirc_plannen = \"C:\\\\temp\\\\opkuis xxd\\\\plannen.txt\"\n",
    "with open(dirc_plannen, \"r\") as f:\n",
    "    lines = f.readlines()\n",
    "    split_lines = [line.split(\"\\n\") for line in lines]\n",
    "    plannen = [line[0] for line in split_lines]\n",
    "\n",
    "for plan in plannen:\n",
    "    #hernoemen oude plan naar \"old_\" op W-schijf\n",
    "    try:\n",
    "        plan_old_dirc = dirc + folder + plan\n",
    "        gewijzigd_plan = \"old_\" + plan\n",
    "        plan_new_dirc = dirc + folder + gewijzigd_plan\n",
    "        os.rename(plan_old_dirc, plan_new_dirc)\n",
    "    except Exception as exc:\n",
    "        print(exc)\n",
    "\n",
    "    #kopiëren nieuw plan van opkuis-folder naar W-schijf\n",
    "    copy_dirc = \"C:\\\\temp\\\\opkuis xxd\\\\\" + plan\n",
    "    new_dirc = dirc + folder + plan\n",
    "    if os.path.exists(new_dirc):\n",
    "        print(new_dirc + \" already exists!\")\n",
    "    else:\n",
    "        shutil.copyfile(copy_dirc, new_dirc)\n",
    "\n",
    "    #hernoemen plan naar \"_\" op opkuis-folder \n",
    "    old_dirc = \"C:\\\\temp\\\\opkuis xxd\\\\\" + plan\n",
    "    new_dirc = \"C:\\\\temp\\\\opkuis xxd\\\\_\" + plan\n",
    "    os.rename(old_dirc, new_dirc)\n",
    "\n",
    "        \n",
    "        \n",
    "\n",
    "\n"
   ]
  },
  {
   "cell_type": "code",
   "execution_count": 1,
   "metadata": {},
   "outputs": [
    {
     "ename": "NameError",
     "evalue": "name 'plannen' is not defined",
     "output_type": "error",
     "traceback": [
      "\u001b[1;31m---------------------------------------------------------------------------\u001b[0m",
      "\u001b[1;31mNameError\u001b[0m                                 Traceback (most recent call last)",
      "\u001b[1;32m<ipython-input-1-2d266f5d5575>\u001b[0m in \u001b[0;36m<module>\u001b[1;34m()\u001b[0m\n\u001b[1;32m----> 1\u001b[1;33m \u001b[0mplan\u001b[0m \u001b[1;33m=\u001b[0m \u001b[0mplannen\u001b[0m\u001b[1;33m[\u001b[0m\u001b[1;36m0\u001b[0m\u001b[1;33m]\u001b[0m\u001b[1;33m\u001b[0m\u001b[0m\n\u001b[0m\u001b[0;32m      2\u001b[0m \u001b[0mdiscipline\u001b[0m \u001b[1;33m=\u001b[0m \u001b[0mplan\u001b[0m\u001b[1;33m[\u001b[0m\u001b[0mlen\u001b[0m\u001b[1;33m(\u001b[0m\u001b[0mplan\u001b[0m\u001b[1;33m)\u001b[0m\u001b[1;33m-\u001b[0m\u001b[1;36m3\u001b[0m\u001b[1;33m:\u001b[0m\u001b[1;33m]\u001b[0m\u001b[1;33m\u001b[0m\u001b[0m\n\u001b[0;32m      3\u001b[0m \u001b[0mprint\u001b[0m\u001b[1;33m(\u001b[0m\u001b[0mdiscipline\u001b[0m\u001b[1;33m)\u001b[0m\u001b[1;33m\u001b[0m\u001b[0m\n",
      "\u001b[1;31mNameError\u001b[0m: name 'plannen' is not defined"
     ]
    }
   ],
   "source": [
    "\tplan = plannen[0]\n",
    "\tdiscipline = plan[len(plan)-3:]\n",
    "\tprint(discipline)"
   ]
  },
  {
   "cell_type": "code",
   "execution_count": null,
   "metadata": {
    "collapsed": true
   },
   "outputs": [],
   "source": []
  }
 ],
 "metadata": {
  "kernelspec": {
   "display_name": "Python 3",
   "language": "python",
   "name": "python3"
  },
  "language_info": {
   "codemirror_mode": {
    "name": "ipython",
    "version": 3
   },
   "file_extension": ".py",
   "mimetype": "text/x-python",
   "name": "python",
   "nbconvert_exporter": "python",
   "pygments_lexer": "ipython3",
   "version": "3.6.2"
  }
 },
 "nbformat": 4,
 "nbformat_minor": 2
}
