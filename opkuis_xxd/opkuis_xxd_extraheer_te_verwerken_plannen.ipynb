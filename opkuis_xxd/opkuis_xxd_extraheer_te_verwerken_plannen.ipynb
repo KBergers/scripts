{
 "cells": [
  {
   "cell_type": "code",
   "execution_count": 1,
   "metadata": {},
   "outputs": [
    {
     "data": {
      "text/plain": [
       "'W:\\\\NVLA002\\\\Geolig\\\\Datalig'"
      ]
     },
     "execution_count": 1,
     "metadata": {},
     "output_type": "execute_result"
    }
   ],
   "source": [
    "import os\n",
    "import shutil\n",
    "os.chdir(\"W:\\\\NVLA002\\\\Geolig\\\\Datalig\")\n",
    "os.getcwd()"
   ]
  },
  {
   "cell_type": "code",
   "execution_count": 15,
   "metadata": {
    "collapsed": true
   },
   "outputs": [],
   "source": [
    "folder = '082158' #INVULLEN\n",
    "extract_dirc = os.getcwd() + \"\\\\\" + folder\n",
    "\n",
    "#inladen plannen vanuit notepad naar list \"plannen\"\n",
    "from functions import laad_plannen\n",
    "dirc_plannen = \"C:\\\\temp\\\\opkuis xxd\\\\plannen.txt\"\n",
    "plannen = laad_plannen(dirc_plannen)]\n",
    "\n",
    "for plan in plannen:\n",
    "    if plan in os.listdir(extract_dirc):\n",
    "        shutil.copy(extract_dirc+\"\\\\\"+plan, \"C:\\\\temp\\\\opkuis xxd\\\\\"+plan)\n",
    "    else: \n",
    "        print(\"Plan \" + plan + \" bestaat niet in folder!\")\n",
    "        "
   ]
  },
  {
   "cell_type": "code",
   "execution_count": null,
   "metadata": {
    "collapsed": true
   },
   "outputs": [],
   "source": []
  }
 ],
 "metadata": {
  "kernelspec": {
   "display_name": "Python 3",
   "language": "python",
   "name": "python3"
  },
  "language_info": {
   "codemirror_mode": {
    "name": "ipython",
    "version": 3
   },
   "file_extension": ".py",
   "mimetype": "text/x-python",
   "name": "python",
   "nbconvert_exporter": "python",
   "pygments_lexer": "ipython3",
   "version": "3.6.4"
  }
 },
 "nbformat": 4,
 "nbformat_minor": 2
}
