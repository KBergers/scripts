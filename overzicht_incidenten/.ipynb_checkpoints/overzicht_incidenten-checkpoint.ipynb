{
 "cells": [
  {
   "cell_type": "markdown",
   "metadata": {},
   "source": [
    "## Wat moet er gerapporteerd kunnen worden?\n",
    "- Oplosgraad incidenten\n",
    "- Oplosgraad door KIR-team\n",
    "- Splitsing tussen GEO, AM en Infrax"
   ]
  },
  {
   "cell_type": "code",
   "execution_count": 50,
   "metadata": {},
   "outputs": [],
   "source": [
    "import pandas as pd"
   ]
  },
  {
   "cell_type": "markdown",
   "metadata": {},
   "source": [
    "#### Download lijst incidenten vanuit Xtraction: \n",
    "- 'Folders' --> 'Shared Folders' --> 'Incident' --> 'Incident Resultaten Support Team (historiek)'\n",
    "- Kijk manueel na. Indien nodig, wijzig Resolution User naar 'GEO' of 'AM'\n"
   ]
  },
  {
   "cell_type": "code",
   "execution_count": 51,
   "metadata": {
    "scrolled": true
   },
   "outputs": [],
   "source": [
    "# Import historiek incident resultaten en mergen\n",
    "geo = \"C:\\\\Users\\\\SWP679\\\\Desktop\\\\Incident resultaten Support Team (GEO).xlsx\"\n",
    "am = \"C:\\\\Users\\\\SWP679\\\\Desktop\\\\Incident resultaten Support Team (AM).xlsx\"\n",
    "incidenten_geo = pd.read_excel(geo, sheet_name='Afgesloten incidenten (lijst)', header=2)\n",
    "incidenten_am = pd.read_excel(am, sheet_name='Afgesloten incidenten (lijst)', header=2)\n",
    "\n",
    "incidenten = incidenten_geo.append(incidenten_am, ignore_index=True)\n",
    "incidenten.dropna(inplace=True, how='all')"
   ]
  },
  {
   "cell_type": "code",
   "execution_count": 52,
   "metadata": {},
   "outputs": [
    {
     "data": {
      "text/html": [
       "<div>\n",
       "<style scoped>\n",
       "    .dataframe tbody tr th:only-of-type {\n",
       "        vertical-align: middle;\n",
       "    }\n",
       "\n",
       "    .dataframe tbody tr th {\n",
       "        vertical-align: top;\n",
       "    }\n",
       "\n",
       "    .dataframe thead th {\n",
       "        text-align: right;\n",
       "    }\n",
       "</style>\n",
       "<table border=\"1\" class=\"dataframe\">\n",
       "  <thead>\n",
       "    <tr style=\"text-align: right;\">\n",
       "      <th></th>\n",
       "      <th>Incident ID</th>\n",
       "      <th>Incident Source</th>\n",
       "      <th>Is Breached</th>\n",
       "      <th>Response Level</th>\n",
       "      <th>Summary</th>\n",
       "      <th>Technical Resolution</th>\n",
       "      <th>Article</th>\n",
       "      <th>Customer</th>\n",
       "      <th>Date Created</th>\n",
       "      <th>Date Last Resolved</th>\n",
       "      <th>Status</th>\n",
       "      <th>Resolution Group Name</th>\n",
       "      <th>Resolution User</th>\n",
       "    </tr>\n",
       "  </thead>\n",
       "  <tbody>\n",
       "    <tr>\n",
       "      <th>0</th>\n",
       "      <td>327601</td>\n",
       "      <td>Email</td>\n",
       "      <td>Yes</td>\n",
       "      <td>Priority 4</td>\n",
       "      <td>Standalonemap stopped working.</td>\n",
       "      <td>64-bit PC is in orde gebracht en zal in de loo...</td>\n",
       "      <td>EAN4460 Geoview / geolis / geolig / Elont meld...</td>\n",
       "      <td>GCJ099 - Kristof Baele</td>\n",
       "      <td>2017-12-07 16:33:02</td>\n",
       "      <td>2018-12-18 13:00:48</td>\n",
       "      <td>Closed</td>\n",
       "      <td>Appl Netten GEO</td>\n",
       "      <td>QTP864 - Ken Bergers</td>\n",
       "    </tr>\n",
       "    <tr>\n",
       "      <th>1</th>\n",
       "      <td>329449</td>\n",
       "      <td>Email</td>\n",
       "      <td>Yes</td>\n",
       "      <td>Priority 4</td>\n",
       "      <td>Onderwerp: FW: verleggen grens Aarschot/Tielt ...</td>\n",
       "      <td>MS grens Tielt-Winge aangemaakt</td>\n",
       "      <td>EAN2258 GeoView GeoLis andere incidenten</td>\n",
       "      <td>EFH383 - Stijn de Walef</td>\n",
       "      <td>2017-12-20 11:17:38</td>\n",
       "      <td>2018-02-01 11:14:53</td>\n",
       "      <td>Closed</td>\n",
       "      <td>Appl Netten GEO</td>\n",
       "      <td>BJF331 - Joris Vanderloock</td>\n",
       "    </tr>\n",
       "    <tr>\n",
       "      <th>2</th>\n",
       "      <td>329575</td>\n",
       "      <td>Phone</td>\n",
       "      <td>No</td>\n",
       "      <td>Priority 4</td>\n",
       "      <td>Printen vanuit geoview lukt niet altijd</td>\n",
       "      <td>Te weinig info</td>\n",
       "      <td>EAN0861 Geoview GeoLis printen lukt niet</td>\n",
       "      <td>ACL001 - Michel Monsieurs</td>\n",
       "      <td>2017-12-21 09:54:34</td>\n",
       "      <td>2018-01-31 10:50:38</td>\n",
       "      <td>Closed</td>\n",
       "      <td>Appl Netten GEO</td>\n",
       "      <td>GHG127 - Anneleen Robbe</td>\n",
       "    </tr>\n",
       "    <tr>\n",
       "      <th>3</th>\n",
       "      <td>330263</td>\n",
       "      <td>Email</td>\n",
       "      <td>No</td>\n",
       "      <td>Priority 4</td>\n",
       "      <td>Probleem PadConfiguratie</td>\n",
       "      <td>Probleem is opgelost</td>\n",
       "      <td>EAN1233 Elont andere incidenten</td>\n",
       "      <td>CHE143 - Wim Dert</td>\n",
       "      <td>2018-01-02 07:44:22</td>\n",
       "      <td>2018-02-01 09:04:10</td>\n",
       "      <td>Closed</td>\n",
       "      <td>Appl Netten GEO</td>\n",
       "      <td>BJF331 - Joris Vanderloock</td>\n",
       "    </tr>\n",
       "    <tr>\n",
       "      <th>4</th>\n",
       "      <td>332910</td>\n",
       "      <td>Phone</td>\n",
       "      <td>Yes</td>\n",
       "      <td>Priority 4</td>\n",
       "      <td>GeoView: Autoplan: De aanmaak van de afdrukken...</td>\n",
       "      <td>Afkappingsteken in straatnaam. Probleem opgelo...</td>\n",
       "      <td>EAN1169 GeoView GeoLis Autoplan</td>\n",
       "      <td>MGB222 - brenda smolders</td>\n",
       "      <td>2018-01-22 09:15:57</td>\n",
       "      <td>2018-02-01 14:43:34</td>\n",
       "      <td>Closed</td>\n",
       "      <td>Appl Netten GEO</td>\n",
       "      <td>BJF331 - Joris Vanderloock</td>\n",
       "    </tr>\n",
       "  </tbody>\n",
       "</table>\n",
       "</div>"
      ],
      "text/plain": [
       "  Incident ID Incident Source Is Breached Response Level  \\\n",
       "0      327601           Email         Yes     Priority 4   \n",
       "1      329449           Email         Yes     Priority 4   \n",
       "2      329575           Phone          No     Priority 4   \n",
       "3      330263           Email          No     Priority 4   \n",
       "4      332910           Phone         Yes     Priority 4   \n",
       "\n",
       "                                             Summary  \\\n",
       "0                     Standalonemap stopped working.   \n",
       "1  Onderwerp: FW: verleggen grens Aarschot/Tielt ...   \n",
       "2            Printen vanuit geoview lukt niet altijd   \n",
       "3                           Probleem PadConfiguratie   \n",
       "4  GeoView: Autoplan: De aanmaak van de afdrukken...   \n",
       "\n",
       "                                Technical Resolution  \\\n",
       "0  64-bit PC is in orde gebracht en zal in de loo...   \n",
       "1                    MS grens Tielt-Winge aangemaakt   \n",
       "2                                     Te weinig info   \n",
       "3                               Probleem is opgelost   \n",
       "4  Afkappingsteken in straatnaam. Probleem opgelo...   \n",
       "\n",
       "                                             Article  \\\n",
       "0  EAN4460 Geoview / geolis / geolig / Elont meld...   \n",
       "1           EAN2258 GeoView GeoLis andere incidenten   \n",
       "2           EAN0861 Geoview GeoLis printen lukt niet   \n",
       "3                    EAN1233 Elont andere incidenten   \n",
       "4                    EAN1169 GeoView GeoLis Autoplan   \n",
       "\n",
       "                    Customer        Date Created  Date Last Resolved  Status  \\\n",
       "0     GCJ099 - Kristof Baele 2017-12-07 16:33:02 2018-12-18 13:00:48  Closed   \n",
       "1    EFH383 - Stijn de Walef 2017-12-20 11:17:38 2018-02-01 11:14:53  Closed   \n",
       "2  ACL001 - Michel Monsieurs 2017-12-21 09:54:34 2018-01-31 10:50:38  Closed   \n",
       "3          CHE143 - Wim Dert 2018-01-02 07:44:22 2018-02-01 09:04:10  Closed   \n",
       "4   MGB222 - brenda smolders 2018-01-22 09:15:57 2018-02-01 14:43:34  Closed   \n",
       "\n",
       "  Resolution Group Name             Resolution User  \n",
       "0       Appl Netten GEO        QTP864 - Ken Bergers  \n",
       "1       Appl Netten GEO  BJF331 - Joris Vanderloock  \n",
       "2       Appl Netten GEO     GHG127 - Anneleen Robbe  \n",
       "3       Appl Netten GEO  BJF331 - Joris Vanderloock  \n",
       "4       Appl Netten GEO  BJF331 - Joris Vanderloock  "
      ]
     },
     "execution_count": 52,
     "metadata": {},
     "output_type": "execute_result"
    }
   ],
   "source": [
    "# Overbodige kolommen verwijderen\n",
    "labels = [\"CI\", \"Assign Count\", \"Customer Resolution Html\", \"Is VIP?\", \n",
    "          \"Date Last Closed\", \"Assigned Group\", \"Assigned To\"]\n",
    "incidenten = incidenten.drop(labels, axis=1)\n",
    "incidenten.head()"
   ]
  },
  {
   "cell_type": "code",
   "execution_count": 53,
   "metadata": {},
   "outputs": [
    {
     "data": {
      "text/plain": [
       "(1718, 13)"
      ]
     },
     "execution_count": 53,
     "metadata": {},
     "output_type": "execute_result"
    }
   ],
   "source": [
    "incidenten.shape"
   ]
  },
  {
   "cell_type": "code",
   "execution_count": 54,
   "metadata": {},
   "outputs": [
    {
     "name": "stdout",
     "output_type": "stream",
     "text": [
      "Striptime already done!\n"
     ]
    }
   ],
   "source": [
    "# Convert to datetime\n",
    "from datetime import datetime\n",
    "import re\n",
    "\n",
    "try:\n",
    "    incidenten[\"Date Created\"] = incidenten[\"Date Created\"].apply(lambda x: datetime.strptime(x, \"%d/%m/%Y %H:%M\"))\n",
    "except TypeError:\n",
    "    print(\"Striptime already done!\")"
   ]
  },
  {
   "cell_type": "code",
   "execution_count": 55,
   "metadata": {},
   "outputs": [],
   "source": [
    "# Filter on dates\n",
    "incidenten = incidenten[(incidenten[\"Date Created\"] > '2018-09-01') & (incidenten[\"Date Created\"] < '2019-01-01')]"
   ]
  },
  {
   "cell_type": "code",
   "execution_count": 56,
   "metadata": {},
   "outputs": [
    {
     "data": {
      "text/plain": [
       "953   2019-01-31 10:00:05\n",
       "954   2019-01-31 10:26:11\n",
       "955   2019-01-31 10:27:15\n",
       "956   2019-01-31 14:24:37\n",
       "957   2019-01-31 15:10:54\n",
       "Name: Date Created, dtype: datetime64[ns]"
      ]
     },
     "execution_count": 56,
     "metadata": {},
     "output_type": "execute_result"
    }
   ],
   "source": [
    "incidenten[incidenten[\"Resolution Group Name\"]==\"Appl Netten GEO\"][\"Date Created\"].tail()"
   ]
  },
  {
   "cell_type": "code",
   "execution_count": 57,
   "metadata": {},
   "outputs": [
    {
     "data": {
      "text/plain": [
       "(153, 13)"
      ]
     },
     "execution_count": 57,
     "metadata": {},
     "output_type": "execute_result"
    }
   ],
   "source": [
    "incidenten.shape"
   ]
  },
  {
   "cell_type": "code",
   "execution_count": 58,
   "metadata": {},
   "outputs": [
    {
     "data": {
      "text/plain": [
       "array(['EAN0834 EAI melding Operaties & Monitoring',\n",
       "       'EAN3341 Geolig andere incidenten',\n",
       "       'EAN2258 GeoView GeoLis andere incidenten',\n",
       "       'EAN1163 UNITTG - TTG performantie incident - meerdere gebruikers',\n",
       "       'EAN4331 IMDMS Mecoms andere incidenten',\n",
       "       'EAN1158 UNITTG - TTG andere incidenten 1 gebruiker',\n",
       "       'EAN3475 ROSI functionele vragen',\n",
       "       'EAN4194 IQ plus Restart server of service',\n",
       "       'EAN2662 Gis ControleCentrum niet gebruikt sinds 12 maanden - locked',\n",
       "       'EAN1203 AutoCAD andere incidenten',\n",
       "       'EAN2302 GON andere incidenten',\n",
       "       'EAN0617 OCE Plotter technische incidenten',\n",
       "       'INF132 Smallworld Offline (Mobiel) - andere incidenten',\n",
       "       'EAN1334 GeoView functionele vragen',\n",
       "       'EAN2548 Bentleymap andere incidenten',\n",
       "       'INF130 Smallworld GIS - andere incidenten',\n",
       "       'EAN3847 GeoLis GeoLig leiding Leiding toebehoren konden niet opgehaald worden',\n",
       "       'EAN9998 RFI oproep', 'EAN1357 Nemesis Gas andere incidenten',\n",
       "       'EAN3507 OV WEB andere incidenten',\n",
       "       'EAN3692 KLIP andere incidenten',\n",
       "       'EAN4503 Proactieve melding Operaties & Monitoring',\n",
       "       'INF052 KLIP Planaanvraag afhandeling (GIS) Infrax - andere incidenten',\n",
       "       'EAN9995 Infrax incident e-mails (INC)',\n",
       "       'EAN1113 SAP UniVlam andere incidenten',\n",
       "       'EAN2453 GeoLis Werkgebied kon niet toegeeigend worden',\n",
       "       'EAN1366 Nemesis Middenspanning andere incidenten',\n",
       "       'EAN3676 Landesk - Mijn ICT-Tools - Incident na uitvoering van RFS aanvraag',\n",
       "       'EAN0861 Geoview GeoLis printen lukt niet',\n",
       "       'EAN4306 Website Eandis - E-lyse andere incidenten',\n",
       "       'EAN1325 GeoRap andere incidenten',\n",
       "       'EAN2324 UNITTG - TTG GON fout - oranje kruis of vinkje',\n",
       "       'EAN1158 UNITTG - TTG andere incidenten meerdere gebruikers',\n",
       "       'EAN4500 Site Viewer Image / Orbit / mobile mapping error This application requires access to local storage',\n",
       "       'EAN3182 Agiv Lara andere incidenten',\n",
       "       'EAN0458 Internet Explorer Proxy Settings',\n",
       "       'INF038 GIPOD Infrax - andere incidenten',\n",
       "       'EAN2870 GIPOD andere incidenten',\n",
       "       'EAN1268 GeoCompass andere incidenten',\n",
       "       'EAN2741 GON performantie incident',\n",
       "       'EAN2059 LanSync andere incidenten',\n",
       "       'EAN1434 Wevab andere incidenten',\n",
       "       'EAN1890 Visavla andere incidenten',\n",
       "       'EAN1165 UNITTG - TTG rechten incidenten'], dtype=object)"
      ]
     },
     "execution_count": 58,
     "metadata": {},
     "output_type": "execute_result"
    }
   ],
   "source": [
    "incidenten[\"Article\"].unique()"
   ]
  },
  {
   "cell_type": "code",
   "execution_count": 59,
   "metadata": {},
   "outputs": [
    {
     "data": {
      "text/plain": [
       "QTP864 - Ken Bergers          107\n",
       "AM                             10\n",
       "LZM524 - Bernhard Bannink       7\n",
       "PSZ834 - Thomas Bredenoord      6\n",
       "GHG127 - Anneleen Robbe         6\n",
       "PNF248 - Erwin Munters          5\n",
       "GEO                             4\n",
       "GAH048 - Gert Van Dyck          1\n",
       "Name: Resolution User, dtype: int64"
      ]
     },
     "execution_count": 59,
     "metadata": {},
     "output_type": "execute_result"
    }
   ],
   "source": [
    "incidenten[incidenten[\"Resolution Group Name\"]=='Appl Netten GEO'][\"Resolution User\"].value_counts()"
   ]
  },
  {
   "cell_type": "code",
   "execution_count": 60,
   "metadata": {},
   "outputs": [],
   "source": [
    "# Splitsen in AM en GEO incidenten\n",
    "AM_apps = [\"nemesis\", \"pq\", \"ov web\", \"straatlampen\", \"nemora\", \"wevab\", \"iq plus\", \"ttg\", \"visa\"]\n",
    "teamgeo = ['GHG127 - Anneleen Robbe', 'BJF331 - Joris Vanderloock', 'GAH048 - Gert Van Dyck',\n",
    "           'GHF281 - Didier Van Belleghem', 'JAD401 - Nick Ceulemans',\n",
    "           'ERN417 - Marieke Algoed', 'IHZ211 - Philip De Vos',\n",
    "           'PPC524 - Katrien Verbeek', 'GBE165 - Gunther Daneels',\n",
    "           'LZM524 - Bernhard Bannink', 'PNF248 - Erwin Munters', 'PSZ834 - Thomas Bredenoord', 'GEO']\n",
    "\n",
    "for i in incidenten.index:\n",
    "    article = str(incidenten.loc[i, \"Article\"]).lower()\n",
    "    user = str(incidenten.loc[i, \"Resolution User\"])\n",
    "    if (any(app in article for app in AM_apps) and (user not in teamgeo)) or user == 'AM':\n",
    "        incidenten.loc[i, \"Resolution Group Name\"] = 'AM'\n",
    "    else:\n",
    "        incidenten.loc[i, \"Resolution Group Name\"] = 'GEO'"
   ]
  },
  {
   "cell_type": "code",
   "execution_count": 61,
   "metadata": {},
   "outputs": [
    {
     "data": {
      "text/plain": [
       "QTP864 - Ken Bergers        13\n",
       "AM                          10\n",
       "HIE161 - Tim De Bondt        2\n",
       "GMQ011 - Willem Fouquart     1\n",
       "Name: Resolution User, dtype: int64"
      ]
     },
     "execution_count": 61,
     "metadata": {},
     "output_type": "execute_result"
    }
   ],
   "source": [
    "incidenten[incidenten[\"Resolution Group Name\"]=='AM'][\"Resolution User\"].value_counts()"
   ]
  },
  {
   "cell_type": "code",
   "execution_count": 62,
   "metadata": {},
   "outputs": [
    {
     "data": {
      "text/plain": [
       "GTDGPDWO (Ophalen GIPOD werkopdrachten) job in error       2\n",
       "MF622 (ActieSteun) bericht niet afgeleverd                 2\n",
       "MF167 (CreateGasLeak) - bericht in error                   2\n",
       "GSDCTRCC (Controle cc_refresh) job in error                2\n",
       "Bericht MF624 ActieStuurpunt gefaald                       1\n",
       "TDDMF675-676 (Bereken kwartierverbruik OV) job in error    1\n",
       "Name: Summary, dtype: int64"
      ]
     },
     "execution_count": 62,
     "metadata": {},
     "output_type": "execute_result"
    }
   ],
   "source": [
    "# Dit artikel zit automatisch bij GEO. Kijk na of er geen opvallend groot aantal AM gevallen zijn\n",
    "incidenten[incidenten[\"Article\"]=='EAN0834 EAI melding Operaties & Monitoring'][\"Summary\"].value_counts()"
   ]
  },
  {
   "cell_type": "code",
   "execution_count": 63,
   "metadata": {},
   "outputs": [
    {
     "data": {
      "text/plain": [
       "array(['QTP864 - Ken Bergers', 'AM', 'GEO', 'GHG127 - Anneleen Robbe',\n",
       "       'PNF248 - Erwin Munters', 'LZM524 - Bernhard Bannink',\n",
       "       'GAH048 - Gert Van Dyck', 'PSZ834 - Thomas Bredenoord',\n",
       "       'HIE161 - Tim De Bondt', 'GMQ011 - Willem Fouquart'], dtype=object)"
      ]
     },
     "execution_count": 63,
     "metadata": {},
     "output_type": "execute_result"
    }
   ],
   "source": [
    "# Kijk na of alle Infrax collega's zijn toegevoegd in de lijst\n",
    "infrax_collegas = [\"LZM524\", \"NQB004\", \"PJS862\", \"PNF248\", \"RHC604\", \"PSZ834\"]\n",
    "incidenten[\"Resolution User\"].unique()"
   ]
  },
  {
   "cell_type": "code",
   "execution_count": 64,
   "metadata": {},
   "outputs": [
    {
     "data": {
      "text/plain": [
       "GEO    109\n",
       "AM      26\n",
       "I       18\n",
       "Name: Resolution Group Name, dtype: int64"
      ]
     },
     "execution_count": 64,
     "metadata": {},
     "output_type": "execute_result"
    }
   ],
   "source": [
    "# Toevoegen Infrax Groep\n",
    "for i in incidenten.index:\n",
    "    user = str(incidenten.loc[i, \"Resolution User\"])[0:6]\n",
    "    if user in infrax_collegas:\n",
    "        incidenten.loc[i, \"Resolution Group Name\"] = \"I\"\n",
    "\n",
    "incidenten[\"Resolution Group Name\"].value_counts()"
   ]
  },
  {
   "cell_type": "code",
   "execution_count": 65,
   "metadata": {},
   "outputs": [
    {
     "data": {
      "text/plain": [
       "1    108\n",
       "0     45\n",
       "Name: KIR, dtype: int64"
      ]
     },
     "execution_count": 65,
     "metadata": {},
     "output_type": "execute_result"
    }
   ],
   "source": [
    "# Toevoegen KIR kolom\n",
    "incidenten[\"KIR\"] = 0\n",
    "for i in incidenten.index:\n",
    "    user = str(incidenten.loc[i, \"Resolution User\"])[0:6]\n",
    "    if user == \"QTP864\":\n",
    "        incidenten.loc[i, \"KIR\"] = 1\n",
    "\n",
    "incidenten[\"KIR\"].value_counts()"
   ]
  },
  {
   "cell_type": "code",
   "execution_count": 66,
   "metadata": {},
   "outputs": [
    {
     "data": {
      "image/png": "[encoded data removed]",
      "text/plain": [
       "<Figure size 1728x720 with 1 Axes>"
      ]
     },
     "metadata": {
      "needs_background": "light"
     },
     "output_type": "display_data"
    }
   ],
   "source": [
    "# Functie om plot aan te maken\n",
    "import matplotlib.pyplot as plt\n",
    "from numpy import arange\n",
    "\n",
    "plt.rcParams[\"font.family\"] = \"serif\"\n",
    "\n",
    "textfont = {'family': 'sans-serif',\n",
    "        'color':  'black',\n",
    "        'weight': 'bold',\n",
    "        'size': 28,\n",
    "        }\n",
    "\n",
    "def barplot(series, barwidth, xlabel, ylabel, pngname, plottitle):\n",
    "    proportie = [int(x/series.sum()*100) for x in series]\n",
    "    fig = plt.figure(figsize=(24, 10))\n",
    "    ax = fig.add_subplot(1,1,1)\n",
    "    bar_positions = arange(len(series.values)) + 1\n",
    "    ax.bar(bar_positions, series.values, width=barwidth)\n",
    "    tick_positions = range(1,(len(series.values)+1))\n",
    "    ax.set_xticks(tick_positions)\n",
    "    ax.set_xticklabels(series.index)\n",
    "    ax.set_xlabel(xlabel, fontsize=24)\n",
    "    ax.set_ylabel(ylabel, fontsize=24)\n",
    "    ax.tick_params(labelsize=28)\n",
    "    ax.set_title(plottitle, fontsize=32, pad=45, fontweight='bold') # Titel van plot\n",
    "    for i, v in enumerate(proportie):\n",
    "        ax.text(i+1, series[i]+(0.01*max(series.values)), str(v)+\"%\", horizontalalignment='center', color='black', fontdict=textfont)\n",
    "    ax.set_frame_on(b=False)\n",
    "    today = datetime.today().strftime('%Y%m%d')\n",
    "    plt.savefig(pngname+\"_\"+today+\".png\") # Exporteren plot naar png\n",
    "    plt.show() \n",
    "\n",
    "incident_by_team = incidenten.groupby(by=[\"Resolution Group Name\"]).count()[\"Incident ID\"]\n",
    "\n",
    "barplot(incident_by_team, 0.5, \"Team\", \"Aantal incidenten\", \"incidentsPerTeam\", \"Incidenten JAN 2019\")"
   ]
  },
  {
   "cell_type": "code",
   "execution_count": 67,
   "metadata": {},
   "outputs": [],
   "source": [
    "#incidenten_ean = incidenten[(incidenten[\"Resolution Group Name\"]==\"AM\")|(incidenten[\"Resolution Group Name\"]==\"GEO\")]\n",
    "#incidenten_ean_KIR = incidenten_ean.groupby(by=[\"KIR\"]).count()[\"Incident ID\"]\n",
    "#barplot(incidenten_ean_KIR, 0.5, \"Opgelost door KIR=1\", \"Aantal incidenten\", \"incidentByKIR_GeoAM\", \"Incidenten GEO+AM-Infrax sep-dec 2018\")"
   ]
  },
  {
   "cell_type": "code",
   "execution_count": 68,
   "metadata": {},
   "outputs": [],
   "source": [
    "#incidenten_eanAM_KIR = incidenten[incidenten[\"Resolution Group Name\"]==\"AM\"].groupby(by=[\"KIR\"]).count()[\"Incident ID\"]\n",
    "#barplot(incidenten_eanAM_KIR, 0.5, \"Opgelost door KIR=1\", \"Aantal incidenten\", \"incidentByKIR\", \"Incidenten AM sep-dec 2018\")"
   ]
  },
  {
   "cell_type": "code",
   "execution_count": 69,
   "metadata": {},
   "outputs": [
    {
     "data": {
      "image/png": "[encoded data removed]",
      "text/plain": [
       "<Figure size 1728x720 with 1 Axes>"
      ]
     },
     "metadata": {
      "needs_background": "light"
     },
     "output_type": "display_data"
    }
   ],
   "source": [
    "incidenten_ean = incidenten[(incidenten[\"Resolution Group Name\"]==\"AM\")|(incidenten[\"Resolution Group Name\"]==\"GEO\")]\n",
    "incidenten_ean_GeoAM = incidenten_ean.groupby(by=[\"Resolution Group Name\", \"KIR\"]).count()[\"Incident ID\"]\n",
    "\n",
    "# Bereken verhouding incidenten opgelost door KIR per team\n",
    "proportie = []\n",
    "for i, amount in incidenten_ean_GeoAM.items():\n",
    "    if i[0] == \"AM\":\n",
    "        som = sum(incidenten_ean_GeoAM[\"AM\"])   \n",
    "    else:\n",
    "        som = sum(incidenten_ean_GeoAM[\"GEO\"])\n",
    "    verhouding = int(round(amount/som*100)) #'round' om correct af te ronden\n",
    "    proportie.append(verhouding)\n",
    "\n",
    "# Plot aantal incidenten opgelost door KIR-team\n",
    "barcolors = [\"#990000\", \"#990000\", \"#3366cc\", \"#3366cc\"]\n",
    "fig = plt.figure(figsize=(24, 10))\n",
    "ax = fig.add_subplot(1,1,1)\n",
    "bar_positions = arange(4) + 1\n",
    "bar = ax.bar(bar_positions, incidenten_ean_GeoAM.values, width=0.5, color=barcolors)\n",
    "tick_positions = range(1,5)\n",
    "ax.set_xticks(tick_positions)\n",
    "ax.set_xticklabels(incidenten_ean_GeoAM.index.get_level_values(1))\n",
    "ax.set_xlabel(\"Opgelost door KIR=1\", fontsize=24)\n",
    "ax.set_ylabel(\"Aantal incidenten\", fontsize=24)\n",
    "ax.tick_params(labelsize=28)\n",
    "ax.set_title(\"Incidenten JAN 2019 opgelost door KIR-team\", fontsize=32, pad=45, fontweight='bold') # Titel van plot\n",
    "for i, v in enumerate(incidenten_ean_GeoAM):\n",
    "    ax.text(i+1, v+(0.01*max(incidenten_ean_GeoAM.values)), str(proportie[i])+\"%\", \n",
    "            horizontalalignment='center', color='black', fontdict=textfont)\n",
    "ax.set_frame_on(b=False)\n",
    "ax.legend(bar[1:3], [\"AM\", \"GEO\"], loc=2, prop={'size': 24})\n",
    "today = datetime.today().strftime('%Y%m%d')\n",
    "plt.savefig(\"incidentsOpgelostDoorKIR_\"+today+\".png\")\n",
    "plt.show()\n"
   ]
  },
  {
   "cell_type": "code",
   "execution_count": 70,
   "metadata": {},
   "outputs": [
    {
     "data": {
      "image/png": "[encoded data removed]",
      "text/plain": [
       "<Figure size 1728x720 with 1 Axes>"
      ]
     },
     "metadata": {
      "needs_background": "light"
     },
     "output_type": "display_data"
    }
   ],
   "source": [
    "breached_incidenten = incidenten.groupby(by=[\"Is Breached\"]).count()[\"Incident ID\"]\n",
    "barplot(breached_incidenten, 0.5, \"SLA overschreden?\", \"Aantal incidenten\", \"incidentsBreached\", \"Incidenten JAN 2019\")"
   ]
  },
  {
   "cell_type": "code",
   "execution_count": 71,
   "metadata": {},
   "outputs": [
    {
     "data": {
      "image/png": "[encoded data removed]",
      "text/plain": [
       "<Figure size 1728x720 with 1 Axes>"
      ]
     },
     "metadata": {
      "needs_background": "light"
     },
     "output_type": "display_data"
    }
   ],
   "source": [
    "#incidenten_ean = incidenten[(incidenten[\"Resolution Group Name\"]==\"AM\")|(incidenten[\"Resolution Group Name\"]==\"GEO\")]\n",
    "grouped_incidenten = incidenten.groupby(by=[\"Resolution Group Name\", \"Is Breached\"]).count()[\"Incident ID\"]\n",
    "\n",
    "# Bereken verhouding breached incidenten per team\n",
    "proportie = []\n",
    "for i, amount in grouped_incidenten.items():\n",
    "    if i[0] == \"AM\":\n",
    "        som = sum(grouped_incidenten[\"AM\"])   \n",
    "    elif i[0] == \"GEO\":\n",
    "        som = sum(grouped_incidenten[\"GEO\"])\n",
    "    else:\n",
    "        som = sum(grouped_incidenten[\"I\"])\n",
    "    verhouding = int(round(amount/som*100)) #'round' om correct af te ronden\n",
    "    proportie.append(verhouding)\n",
    "\n",
    "# Plot aantal incidenten opgelost door KIR-team\n",
    "barcolors = [\"#990000\", \"#990000\", \"#3366cc\", \"#3366cc\", \"#cccc00\", \"#cccc00\"]\n",
    "fig = plt.figure(figsize=(24, 10))\n",
    "ax = fig.add_subplot(1,1,1)\n",
    "bar_positions = arange(6) + 1\n",
    "bar = ax.bar(bar_positions, grouped_incidenten.values, width=0.5, color=barcolors)\n",
    "tick_positions = range(1,7)\n",
    "ax.set_xticks(tick_positions)\n",
    "ax.set_xticklabels(grouped_incidenten.index.get_level_values(1))\n",
    "ax.set_xlabel(\"SLA overschreden?\", fontsize=24)\n",
    "ax.set_ylabel(\"Aantal incidenten\", fontsize=24)\n",
    "ax.tick_params(labelsize=28)\n",
    "ax.set_title(\"Incidenten JAN 2019\", fontsize=32, pad=45, fontweight='bold') # Titel van plot\n",
    "for i, v in enumerate(grouped_incidenten):\n",
    "    ax.text(i+1, v+(0.01*max(grouped_incidenten.values)), str(proportie[i])+\"%\", \n",
    "            horizontalalignment='center', color='black', fontdict=textfont)\n",
    "ax.set_frame_on(b=False)\n",
    "ax.legend(bar[::2], [\"AM\", \"GEO\", \"Infrax\"], loc=2, prop={'size': 24})\n",
    "today = datetime.today().strftime('%Y%m%d')\n",
    "plt.savefig(\"incidentsBreachedPerTeam\"+today+\".png\")\n",
    "plt.show()\n"
   ]
  },
  {
   "cell_type": "code",
   "execution_count": 72,
   "metadata": {},
   "outputs": [
    {
     "data": {
      "text/plain": [
       "'\\nincident_by_team_complex = jul_aug.groupby(by=[\"Groep\", \"Complexiteit\"]).count()[\"Incident ID\"]\\nproportie = [int(x/incident_by_team_complex.sum()*100) for x in incident_by_team_complex]\\n\\nbarcolors = [\"#990000\", \"#990000\", \"#990000\", \"#990000\", \"#3366cc\", \"#3366cc\", \"#3366cc\", \"#3366cc\", \"#cccc00\"]\\n\\nfig = plt.figure(figsize=(24, 10))\\nax = fig.add_subplot(1,1,1)\\nbar_positions = arange(9) + 1\\nax.bar(bar_positions, incident_by_team_complex.values, width=0.5, color=barcolors)\\ntick_positions = range(1,10)\\nax.set_xticks(tick_positions)\\nax.set_xticklabels(incident_by_team_complex.index)\\nax.set_xlabel(\"(\\'Team\\', \\'Complexiteit\\')\", fontsize=24)\\nax.set_ylabel(\"Aantal incidenten\", fontsize=24)\\nax.tick_params(labelsize=28)\\nfor i, v in enumerate(incident_by_team_complex):\\n    ax.text(i+1, v+(0.01*max(incident_by_team_complex.values)), str(proportie[i])+\"%\", horizontalalignment=\\'center\\', color=\\'black\\', fontdict=textfont)\\nax.set_frame_on(b=False)\\nplt.savefig(\"incident_by_team_complex.png\")\\nplt.show()\\n'"
      ]
     },
     "execution_count": 72,
     "metadata": {},
     "output_type": "execute_result"
    }
   ],
   "source": [
    "\"\"\"\n",
    "incident_by_team_complex = jul_aug.groupby(by=[\"Groep\", \"Complexiteit\"]).count()[\"Incident ID\"]\n",
    "proportie = [int(x/incident_by_team_complex.sum()*100) for x in incident_by_team_complex]\n",
    "\n",
    "barcolors = [\"#990000\", \"#990000\", \"#990000\", \"#990000\", \"#3366cc\", \"#3366cc\", \"#3366cc\", \"#3366cc\", \"#cccc00\"]\n",
    "\n",
    "fig = plt.figure(figsize=(24, 10))\n",
    "ax = fig.add_subplot(1,1,1)\n",
    "bar_positions = arange(9) + 1\n",
    "ax.bar(bar_positions, incident_by_team_complex.values, width=0.5, color=barcolors)\n",
    "tick_positions = range(1,10)\n",
    "ax.set_xticks(tick_positions)\n",
    "ax.set_xticklabels(incident_by_team_complex.index)\n",
    "ax.set_xlabel(\"('Team', 'Complexiteit')\", fontsize=24)\n",
    "ax.set_ylabel(\"Aantal incidenten\", fontsize=24)\n",
    "ax.tick_params(labelsize=28)\n",
    "for i, v in enumerate(incident_by_team_complex):\n",
    "    ax.text(i+1, v+(0.01*max(incident_by_team_complex.values)), str(proportie[i])+\"%\", horizontalalignment='center', color='black', fontdict=textfont)\n",
    "ax.set_frame_on(b=False)\n",
    "plt.savefig(\"incident_by_team_complex.png\")\n",
    "plt.show()\n",
    "\"\"\""
   ]
  },
  {
   "cell_type": "code",
   "execution_count": 75,
   "metadata": {},
   "outputs": [
    {
     "data": {
      "text/html": [
       "<div>\n",
       "<style scoped>\n",
       "    .dataframe tbody tr th:only-of-type {\n",
       "        vertical-align: middle;\n",
       "    }\n",
       "\n",
       "    .dataframe tbody tr th {\n",
       "        vertical-align: top;\n",
       "    }\n",
       "\n",
       "    .dataframe thead th {\n",
       "        text-align: right;\n",
       "    }\n",
       "</style>\n",
       "<table border=\"1\" class=\"dataframe\">\n",
       "  <thead>\n",
       "    <tr style=\"text-align: right;\">\n",
       "      <th></th>\n",
       "      <th>Incident ID</th>\n",
       "      <th>Incident Source</th>\n",
       "      <th>Is Breached</th>\n",
       "      <th>Response Level</th>\n",
       "      <th>Summary</th>\n",
       "      <th>Technical Resolution</th>\n",
       "      <th>Article</th>\n",
       "      <th>Customer</th>\n",
       "      <th>Date Created</th>\n",
       "      <th>Date Last Resolved</th>\n",
       "      <th>Status</th>\n",
       "      <th>Resolution Group Name</th>\n",
       "      <th>Resolution User</th>\n",
       "      <th>KIR</th>\n",
       "    </tr>\n",
       "  </thead>\n",
       "  <tbody>\n",
       "    <tr>\n",
       "      <th>814</th>\n",
       "      <td>390667</td>\n",
       "      <td>Phone</td>\n",
       "      <td>Yes</td>\n",
       "      <td>Priority 2 - BH</td>\n",
       "      <td>Toevoegen van tweede rollen</td>\n",
       "      <td>Problemen met PO</td>\n",
       "      <td>EAN1163 UNITTG - TTG performantie incident - m...</td>\n",
       "      <td>GID136 - Dylan Van Dartelen</td>\n",
       "      <td>2019-01-03 07:48:29</td>\n",
       "      <td>2019-01-10 09:55:54</td>\n",
       "      <td>Closed</td>\n",
       "      <td>AM</td>\n",
       "      <td>AM</td>\n",
       "      <td>0</td>\n",
       "    </tr>\n",
       "    <tr>\n",
       "      <th>850</th>\n",
       "      <td>392835</td>\n",
       "      <td>Self Service</td>\n",
       "      <td>Yes</td>\n",
       "      <td>Priority 3</td>\n",
       "      <td>TDDMF675-676 (Bereken kwartierverbruik OV) job...</td>\n",
       "      <td>Opgelost</td>\n",
       "      <td>EAN0834 EAI melding Operaties &amp; Monitoring</td>\n",
       "      <td>BJG074 - Steven De Loose</td>\n",
       "      <td>2019-01-14 09:24:59</td>\n",
       "      <td>2019-01-17 15:24:31</td>\n",
       "      <td>Closed</td>\n",
       "      <td>AM</td>\n",
       "      <td>AM</td>\n",
       "      <td>0</td>\n",
       "    </tr>\n",
       "    <tr>\n",
       "      <th>864</th>\n",
       "      <td>393363</td>\n",
       "      <td>Self Service</td>\n",
       "      <td>Yes</td>\n",
       "      <td>Priority 3</td>\n",
       "      <td>OVWeb-app &amp; OVWeb-Int error's in pandora</td>\n",
       "      <td>Meeste errors zijn ondertussen al opgelost en ...</td>\n",
       "      <td>EAN4503 Proactieve melding Operaties &amp; Monitoring</td>\n",
       "      <td>AGM177 - Timothy Braeckmans</td>\n",
       "      <td>2019-01-15 14:33:16</td>\n",
       "      <td>2019-02-05 09:59:18</td>\n",
       "      <td>Closed</td>\n",
       "      <td>AM</td>\n",
       "      <td>AM</td>\n",
       "      <td>0</td>\n",
       "    </tr>\n",
       "    <tr>\n",
       "      <th>910</th>\n",
       "      <td>395499</td>\n",
       "      <td>Self Service</td>\n",
       "      <td>No</td>\n",
       "      <td>Priority 3</td>\n",
       "      <td>GSDCTRCC (Controle cc_refresh) job in error</td>\n",
       "      <td>Geexporteerd naar excel en zelf delete stateme...</td>\n",
       "      <td>EAN0834 EAI melding Operaties &amp; Monitoring</td>\n",
       "      <td>BJG074 - Steven De Loose</td>\n",
       "      <td>2019-01-24 08:07:43</td>\n",
       "      <td>2019-01-24 10:32:34</td>\n",
       "      <td>Closed</td>\n",
       "      <td>AM</td>\n",
       "      <td>AM</td>\n",
       "      <td>0</td>\n",
       "    </tr>\n",
       "    <tr>\n",
       "      <th>922</th>\n",
       "      <td>396597</td>\n",
       "      <td>Phone</td>\n",
       "      <td>No</td>\n",
       "      <td>Priority 2 - BH</td>\n",
       "      <td>TTG naar SAP sturen komt niet door</td>\n",
       "      <td>FIRST_INTERV_SEND_WS_PCK_JOB  bleeft in state ...</td>\n",
       "      <td>EAN2324 UNITTG - TTG GON fout - oranje kruis o...</td>\n",
       "      <td>DJI192 - Christophe Aps</td>\n",
       "      <td>2019-01-29 10:59:44</td>\n",
       "      <td>2019-01-29 11:18:33</td>\n",
       "      <td>Closed</td>\n",
       "      <td>AM</td>\n",
       "      <td>AM</td>\n",
       "      <td>0</td>\n",
       "    </tr>\n",
       "    <tr>\n",
       "      <th>923</th>\n",
       "      <td>396601</td>\n",
       "      <td>Phone</td>\n",
       "      <td>No</td>\n",
       "      <td>Priority 3</td>\n",
       "      <td>versturen van klacht naar click lukt niet</td>\n",
       "      <td>FIRST_INTERV_SEND_WS_PCK_JOB  bleeft in state ...</td>\n",
       "      <td>EAN2324 UNITTG - TTG GON fout - oranje kruis o...</td>\n",
       "      <td>AEA484 - Sofie Leroy</td>\n",
       "      <td>2019-01-29 11:05:00</td>\n",
       "      <td>2019-01-29 11:18:33</td>\n",
       "      <td>Closed</td>\n",
       "      <td>AM</td>\n",
       "      <td>AM</td>\n",
       "      <td>0</td>\n",
       "    </tr>\n",
       "    <tr>\n",
       "      <th>924</th>\n",
       "      <td>396602</td>\n",
       "      <td>Phone</td>\n",
       "      <td>No</td>\n",
       "      <td>Priority 3</td>\n",
       "      <td>TTG naar SAP sturen komt niet door</td>\n",
       "      <td>FIRST_INTERV_SEND_WS_PCK_JOB  bleeft in state ...</td>\n",
       "      <td>EAN2324 UNITTG - TTG GON fout - oranje kruis o...</td>\n",
       "      <td>DHG114 - Ann Blommaert</td>\n",
       "      <td>2019-01-29 11:05:32</td>\n",
       "      <td>2019-01-29 11:18:33</td>\n",
       "      <td>Closed</td>\n",
       "      <td>AM</td>\n",
       "      <td>AM</td>\n",
       "      <td>0</td>\n",
       "    </tr>\n",
       "    <tr>\n",
       "      <th>925</th>\n",
       "      <td>396611</td>\n",
       "      <td>Phone</td>\n",
       "      <td>No</td>\n",
       "      <td>Priority 3</td>\n",
       "      <td>TTG naar SAP sturen komt niet door</td>\n",
       "      <td>FIRST_INTERV_SEND_WS_PCK_JOB  bleeft in state ...</td>\n",
       "      <td>EAN2324 UNITTG - TTG GON fout - oranje kruis o...</td>\n",
       "      <td>HJF338 - Els Berrens</td>\n",
       "      <td>2019-01-29 11:13:55</td>\n",
       "      <td>2019-01-29 11:18:33</td>\n",
       "      <td>Closed</td>\n",
       "      <td>AM</td>\n",
       "      <td>AM</td>\n",
       "      <td>0</td>\n",
       "    </tr>\n",
       "    <tr>\n",
       "      <th>926</th>\n",
       "      <td>396612</td>\n",
       "      <td>Phone</td>\n",
       "      <td>No</td>\n",
       "      <td>Priority 2 - BH</td>\n",
       "      <td>tickets van TTG komen niet in click</td>\n",
       "      <td>FIRST_INTERV_SEND_WS_PCK_JOB  bleeft in state ...</td>\n",
       "      <td>EAN1158 UNITTG - TTG andere incidenten meerder...</td>\n",
       "      <td>FDJ062 - Danny Dierckx</td>\n",
       "      <td>2019-01-29 11:14:11</td>\n",
       "      <td>2019-01-29 11:18:33</td>\n",
       "      <td>Closed</td>\n",
       "      <td>AM</td>\n",
       "      <td>AM</td>\n",
       "      <td>0</td>\n",
       "    </tr>\n",
       "    <tr>\n",
       "      <th>927</th>\n",
       "      <td>396614</td>\n",
       "      <td>Phone</td>\n",
       "      <td>No</td>\n",
       "      <td>Priority 3</td>\n",
       "      <td>Kan geen ticketen meer versturen naar sap/click</td>\n",
       "      <td>FIRST_INTERV_SEND_WS_PCK_JOB  bleeft in state ...</td>\n",
       "      <td>EAN2324 UNITTG - TTG GON fout - oranje kruis o...</td>\n",
       "      <td>IEH144 - Sabrine De Meerleer</td>\n",
       "      <td>2019-01-29 11:14:18</td>\n",
       "      <td>2019-01-29 11:18:33</td>\n",
       "      <td>Closed</td>\n",
       "      <td>AM</td>\n",
       "      <td>AM</td>\n",
       "      <td>0</td>\n",
       "    </tr>\n",
       "    <tr>\n",
       "      <th>1712</th>\n",
       "      <td>393876</td>\n",
       "      <td>Email</td>\n",
       "      <td>No</td>\n",
       "      <td>Priority 4</td>\n",
       "      <td>Foutmelding Wevab</td>\n",
       "      <td>Probleem proberen te reproduceren -&gt; niet gelukt.</td>\n",
       "      <td>EAN1434 Wevab andere incidenten</td>\n",
       "      <td>AFA079 - Kelly De Block</td>\n",
       "      <td>2019-01-17 12:59:57</td>\n",
       "      <td>2019-01-21 12:54:51</td>\n",
       "      <td>Closed</td>\n",
       "      <td>AM</td>\n",
       "      <td>GMQ011 - Willem Fouquart</td>\n",
       "      <td>0</td>\n",
       "    </tr>\n",
       "    <tr>\n",
       "      <th>1713</th>\n",
       "      <td>396523</td>\n",
       "      <td>Phone</td>\n",
       "      <td>No</td>\n",
       "      <td>Priority 3</td>\n",
       "      <td>VisaVla / TTG Userbeheer: foutieve versie Trou...</td>\n",
       "      <td>toegang verleent tot versie 5.16 voor de ontbr...</td>\n",
       "      <td>EAN1890 Visavla andere incidenten</td>\n",
       "      <td>AQT921 - Tony De Baets</td>\n",
       "      <td>2019-01-29 09:19:08</td>\n",
       "      <td>2019-01-29 15:45:32</td>\n",
       "      <td>Closed</td>\n",
       "      <td>AM</td>\n",
       "      <td>HIE161 - Tim De Bondt</td>\n",
       "      <td>0</td>\n",
       "    </tr>\n",
       "    <tr>\n",
       "      <th>1714</th>\n",
       "      <td>396687</td>\n",
       "      <td>Phone</td>\n",
       "      <td>No</td>\n",
       "      <td>Priority 3</td>\n",
       "      <td>Rechten foutmelding popup binnen TTG verwijst ...</td>\n",
       "      <td>label aangepast naar contact opnemen met ICT H...</td>\n",
       "      <td>EAN1165 UNITTG - TTG rechten incidenten</td>\n",
       "      <td>FFC031 - Ann Lemiere</td>\n",
       "      <td>2019-01-29 13:22:25</td>\n",
       "      <td>2019-01-29 15:08:20</td>\n",
       "      <td>Closed</td>\n",
       "      <td>AM</td>\n",
       "      <td>HIE161 - Tim De Bondt</td>\n",
       "      <td>0</td>\n",
       "    </tr>\n",
       "  </tbody>\n",
       "</table>\n",
       "</div>"
      ],
      "text/plain": [
       "     Incident ID Incident Source Is Breached   Response Level  \\\n",
       "814       390667           Phone         Yes  Priority 2 - BH   \n",
       "850       392835    Self Service         Yes       Priority 3   \n",
       "864       393363    Self Service         Yes       Priority 3   \n",
       "910       395499    Self Service          No       Priority 3   \n",
       "922       396597           Phone          No  Priority 2 - BH   \n",
       "923       396601           Phone          No       Priority 3   \n",
       "924       396602           Phone          No       Priority 3   \n",
       "925       396611           Phone          No       Priority 3   \n",
       "926       396612           Phone          No  Priority 2 - BH   \n",
       "927       396614           Phone          No       Priority 3   \n",
       "1712      393876           Email          No       Priority 4   \n",
       "1713      396523           Phone          No       Priority 3   \n",
       "1714      396687           Phone          No       Priority 3   \n",
       "\n",
       "                                                Summary  \\\n",
       "814                         Toevoegen van tweede rollen   \n",
       "850   TDDMF675-676 (Bereken kwartierverbruik OV) job...   \n",
       "864            OVWeb-app & OVWeb-Int error's in pandora   \n",
       "910         GSDCTRCC (Controle cc_refresh) job in error   \n",
       "922                  TTG naar SAP sturen komt niet door   \n",
       "923           versturen van klacht naar click lukt niet   \n",
       "924                  TTG naar SAP sturen komt niet door   \n",
       "925                  TTG naar SAP sturen komt niet door   \n",
       "926                 tickets van TTG komen niet in click   \n",
       "927     Kan geen ticketen meer versturen naar sap/click   \n",
       "1712                                  Foutmelding Wevab   \n",
       "1713  VisaVla / TTG Userbeheer: foutieve versie Trou...   \n",
       "1714  Rechten foutmelding popup binnen TTG verwijst ...   \n",
       "\n",
       "                                   Technical Resolution  \\\n",
       "814                                    Problemen met PO   \n",
       "850                                            Opgelost   \n",
       "864   Meeste errors zijn ondertussen al opgelost en ...   \n",
       "910   Geexporteerd naar excel en zelf delete stateme...   \n",
       "922   FIRST_INTERV_SEND_WS_PCK_JOB  bleeft in state ...   \n",
       "923   FIRST_INTERV_SEND_WS_PCK_JOB  bleeft in state ...   \n",
       "924   FIRST_INTERV_SEND_WS_PCK_JOB  bleeft in state ...   \n",
       "925   FIRST_INTERV_SEND_WS_PCK_JOB  bleeft in state ...   \n",
       "926   FIRST_INTERV_SEND_WS_PCK_JOB  bleeft in state ...   \n",
       "927   FIRST_INTERV_SEND_WS_PCK_JOB  bleeft in state ...   \n",
       "1712  Probleem proberen te reproduceren -> niet gelukt.   \n",
       "1713  toegang verleent tot versie 5.16 voor de ontbr...   \n",
       "1714  label aangepast naar contact opnemen met ICT H...   \n",
       "\n",
       "                                                Article  \\\n",
       "814   EAN1163 UNITTG - TTG performantie incident - m...   \n",
       "850          EAN0834 EAI melding Operaties & Monitoring   \n",
       "864   EAN4503 Proactieve melding Operaties & Monitoring   \n",
       "910          EAN0834 EAI melding Operaties & Monitoring   \n",
       "922   EAN2324 UNITTG - TTG GON fout - oranje kruis o...   \n",
       "923   EAN2324 UNITTG - TTG GON fout - oranje kruis o...   \n",
       "924   EAN2324 UNITTG - TTG GON fout - oranje kruis o...   \n",
       "925   EAN2324 UNITTG - TTG GON fout - oranje kruis o...   \n",
       "926   EAN1158 UNITTG - TTG andere incidenten meerder...   \n",
       "927   EAN2324 UNITTG - TTG GON fout - oranje kruis o...   \n",
       "1712                    EAN1434 Wevab andere incidenten   \n",
       "1713                  EAN1890 Visavla andere incidenten   \n",
       "1714            EAN1165 UNITTG - TTG rechten incidenten   \n",
       "\n",
       "                          Customer        Date Created  Date Last Resolved  \\\n",
       "814    GID136 - Dylan Van Dartelen 2019-01-03 07:48:29 2019-01-10 09:55:54   \n",
       "850       BJG074 - Steven De Loose 2019-01-14 09:24:59 2019-01-17 15:24:31   \n",
       "864    AGM177 - Timothy Braeckmans 2019-01-15 14:33:16 2019-02-05 09:59:18   \n",
       "910       BJG074 - Steven De Loose 2019-01-24 08:07:43 2019-01-24 10:32:34   \n",
       "922        DJI192 - Christophe Aps 2019-01-29 10:59:44 2019-01-29 11:18:33   \n",
       "923           AEA484 - Sofie Leroy 2019-01-29 11:05:00 2019-01-29 11:18:33   \n",
       "924         DHG114 - Ann Blommaert 2019-01-29 11:05:32 2019-01-29 11:18:33   \n",
       "925           HJF338 - Els Berrens 2019-01-29 11:13:55 2019-01-29 11:18:33   \n",
       "926         FDJ062 - Danny Dierckx 2019-01-29 11:14:11 2019-01-29 11:18:33   \n",
       "927   IEH144 - Sabrine De Meerleer 2019-01-29 11:14:18 2019-01-29 11:18:33   \n",
       "1712       AFA079 - Kelly De Block 2019-01-17 12:59:57 2019-01-21 12:54:51   \n",
       "1713        AQT921 - Tony De Baets 2019-01-29 09:19:08 2019-01-29 15:45:32   \n",
       "1714          FFC031 - Ann Lemiere 2019-01-29 13:22:25 2019-01-29 15:08:20   \n",
       "\n",
       "      Status Resolution Group Name           Resolution User  KIR  \n",
       "814   Closed                    AM                        AM    0  \n",
       "850   Closed                    AM                        AM    0  \n",
       "864   Closed                    AM                        AM    0  \n",
       "910   Closed                    AM                        AM    0  \n",
       "922   Closed                    AM                        AM    0  \n",
       "923   Closed                    AM                        AM    0  \n",
       "924   Closed                    AM                        AM    0  \n",
       "925   Closed                    AM                        AM    0  \n",
       "926   Closed                    AM                        AM    0  \n",
       "927   Closed                    AM                        AM    0  \n",
       "1712  Closed                    AM  GMQ011 - Willem Fouquart    0  \n",
       "1713  Closed                    AM     HIE161 - Tim De Bondt    0  \n",
       "1714  Closed                    AM     HIE161 - Tim De Bondt    0  "
      ]
     },
     "execution_count": 75,
     "metadata": {},
     "output_type": "execute_result"
    }
   ],
   "source": [
    "incidenten[(incidenten[\"Resolution Group Name\"]==\"AM\") & (incidenten[\"Resolution User\"]!=\"QTP864 - Ken Bergers\")]"
   ]
  },
  {
   "cell_type": "code",
   "execution_count": 77,
   "metadata": {},
   "outputs": [
    {
     "data": {
      "text/html": [
       "<div>\n",
       "<style scoped>\n",
       "    .dataframe tbody tr th:only-of-type {\n",
       "        vertical-align: middle;\n",
       "    }\n",
       "\n",
       "    .dataframe tbody tr th {\n",
       "        vertical-align: top;\n",
       "    }\n",
       "\n",
       "    .dataframe thead th {\n",
       "        text-align: right;\n",
       "    }\n",
       "</style>\n",
       "<table border=\"1\" class=\"dataframe\">\n",
       "  <thead>\n",
       "    <tr style=\"text-align: right;\">\n",
       "      <th></th>\n",
       "      <th>Incident ID</th>\n",
       "      <th>Incident Source</th>\n",
       "      <th>Is Breached</th>\n",
       "      <th>Response Level</th>\n",
       "      <th>Summary</th>\n",
       "      <th>Technical Resolution</th>\n",
       "      <th>Article</th>\n",
       "      <th>Customer</th>\n",
       "      <th>Date Created</th>\n",
       "      <th>Date Last Resolved</th>\n",
       "      <th>Status</th>\n",
       "      <th>Resolution Group Name</th>\n",
       "      <th>Resolution User</th>\n",
       "      <th>KIR</th>\n",
       "    </tr>\n",
       "  </thead>\n",
       "  <tbody>\n",
       "    <tr>\n",
       "      <th>814</th>\n",
       "      <td>390667</td>\n",
       "      <td>Phone</td>\n",
       "      <td>Yes</td>\n",
       "      <td>Priority 2 - BH</td>\n",
       "      <td>Toevoegen van tweede rollen</td>\n",
       "      <td>Problemen met PO</td>\n",
       "      <td>EAN1163 UNITTG - TTG performantie incident - m...</td>\n",
       "      <td>GID136 - Dylan Van Dartelen</td>\n",
       "      <td>2019-01-03 07:48:29</td>\n",
       "      <td>2019-01-10 09:55:54</td>\n",
       "      <td>Closed</td>\n",
       "      <td>AM</td>\n",
       "      <td>AM</td>\n",
       "      <td>0</td>\n",
       "    </tr>\n",
       "    <tr>\n",
       "      <th>817</th>\n",
       "      <td>390852</td>\n",
       "      <td>Email</td>\n",
       "      <td>Yes</td>\n",
       "      <td>Priority 3</td>\n",
       "      <td>Webservices die info ophalen of versturen naar...</td>\n",
       "      <td>Door memory issues stonden databanken af. \\nAf...</td>\n",
       "      <td>EAN1158 UNITTG - TTG andere incidenten 1 gebru...</td>\n",
       "      <td>GJA596 - An Huysmans</td>\n",
       "      <td>2019-01-03 13:35:27</td>\n",
       "      <td>2019-01-14 12:06:12</td>\n",
       "      <td>Closed</td>\n",
       "      <td>AM</td>\n",
       "      <td>QTP864 - Ken Bergers</td>\n",
       "      <td>1</td>\n",
       "    </tr>\n",
       "    <tr>\n",
       "      <th>821</th>\n",
       "      <td>391285</td>\n",
       "      <td>Phone</td>\n",
       "      <td>Yes</td>\n",
       "      <td>Priority 3</td>\n",
       "      <td>IQ plus down</td>\n",
       "      <td>Opgelost</td>\n",
       "      <td>EAN4194 IQ plus Restart server of service</td>\n",
       "      <td>EEL052 - Steven Opsommer</td>\n",
       "      <td>2019-01-07 08:07:27</td>\n",
       "      <td>2019-01-10 10:24:04</td>\n",
       "      <td>Closed</td>\n",
       "      <td>AM</td>\n",
       "      <td>QTP864 - Ken Bergers</td>\n",
       "      <td>1</td>\n",
       "    </tr>\n",
       "    <tr>\n",
       "      <th>850</th>\n",
       "      <td>392835</td>\n",
       "      <td>Self Service</td>\n",
       "      <td>Yes</td>\n",
       "      <td>Priority 3</td>\n",
       "      <td>TDDMF675-676 (Bereken kwartierverbruik OV) job...</td>\n",
       "      <td>Opgelost</td>\n",
       "      <td>EAN0834 EAI melding Operaties &amp; Monitoring</td>\n",
       "      <td>BJG074 - Steven De Loose</td>\n",
       "      <td>2019-01-14 09:24:59</td>\n",
       "      <td>2019-01-17 15:24:31</td>\n",
       "      <td>Closed</td>\n",
       "      <td>AM</td>\n",
       "      <td>AM</td>\n",
       "      <td>0</td>\n",
       "    </tr>\n",
       "    <tr>\n",
       "      <th>864</th>\n",
       "      <td>393363</td>\n",
       "      <td>Self Service</td>\n",
       "      <td>Yes</td>\n",
       "      <td>Priority 3</td>\n",
       "      <td>OVWeb-app &amp; OVWeb-Int error's in pandora</td>\n",
       "      <td>Meeste errors zijn ondertussen al opgelost en ...</td>\n",
       "      <td>EAN4503 Proactieve melding Operaties &amp; Monitoring</td>\n",
       "      <td>AGM177 - Timothy Braeckmans</td>\n",
       "      <td>2019-01-15 14:33:16</td>\n",
       "      <td>2019-02-05 09:59:18</td>\n",
       "      <td>Closed</td>\n",
       "      <td>AM</td>\n",
       "      <td>AM</td>\n",
       "      <td>0</td>\n",
       "    </tr>\n",
       "  </tbody>\n",
       "</table>\n",
       "</div>"
      ],
      "text/plain": [
       "    Incident ID Incident Source Is Breached   Response Level  \\\n",
       "814      390667           Phone         Yes  Priority 2 - BH   \n",
       "817      390852           Email         Yes       Priority 3   \n",
       "821      391285           Phone         Yes       Priority 3   \n",
       "850      392835    Self Service         Yes       Priority 3   \n",
       "864      393363    Self Service         Yes       Priority 3   \n",
       "\n",
       "                                               Summary  \\\n",
       "814                        Toevoegen van tweede rollen   \n",
       "817  Webservices die info ophalen of versturen naar...   \n",
       "821                                       IQ plus down   \n",
       "850  TDDMF675-676 (Bereken kwartierverbruik OV) job...   \n",
       "864           OVWeb-app & OVWeb-Int error's in pandora   \n",
       "\n",
       "                                  Technical Resolution  \\\n",
       "814                                   Problemen met PO   \n",
       "817  Door memory issues stonden databanken af. \\nAf...   \n",
       "821                                           Opgelost   \n",
       "850                                           Opgelost   \n",
       "864  Meeste errors zijn ondertussen al opgelost en ...   \n",
       "\n",
       "                                               Article  \\\n",
       "814  EAN1163 UNITTG - TTG performantie incident - m...   \n",
       "817  EAN1158 UNITTG - TTG andere incidenten 1 gebru...   \n",
       "821          EAN4194 IQ plus Restart server of service   \n",
       "850         EAN0834 EAI melding Operaties & Monitoring   \n",
       "864  EAN4503 Proactieve melding Operaties & Monitoring   \n",
       "\n",
       "                        Customer        Date Created  Date Last Resolved  \\\n",
       "814  GID136 - Dylan Van Dartelen 2019-01-03 07:48:29 2019-01-10 09:55:54   \n",
       "817         GJA596 - An Huysmans 2019-01-03 13:35:27 2019-01-14 12:06:12   \n",
       "821     EEL052 - Steven Opsommer 2019-01-07 08:07:27 2019-01-10 10:24:04   \n",
       "850     BJG074 - Steven De Loose 2019-01-14 09:24:59 2019-01-17 15:24:31   \n",
       "864  AGM177 - Timothy Braeckmans 2019-01-15 14:33:16 2019-02-05 09:59:18   \n",
       "\n",
       "     Status Resolution Group Name       Resolution User  KIR  \n",
       "814  Closed                    AM                    AM    0  \n",
       "817  Closed                    AM  QTP864 - Ken Bergers    1  \n",
       "821  Closed                    AM  QTP864 - Ken Bergers    1  \n",
       "850  Closed                    AM                    AM    0  \n",
       "864  Closed                    AM                    AM    0  "
      ]
     },
     "execution_count": 77,
     "metadata": {},
     "output_type": "execute_result"
    }
   ],
   "source": [
    "incidenten[(incidenten[\"Resolution Group Name\"]==\"AM\") & (incidenten[\"Is Breached\"]==\"Yes\")]"
   ]
  },
  {
   "cell_type": "code",
   "execution_count": null,
   "metadata": {},
   "outputs": [],
   "source": []
  }
 ],
 "metadata": {
  "kernelspec": {
   "display_name": "Python 3",
   "language": "python",
   "name": "python3"
  },
  "language_info": {
   "codemirror_mode": {
    "name": "ipython",
    "version": 3
   },
   "file_extension": ".py",
   "mimetype": "text/x-python",
   "name": "python",
   "nbconvert_exporter": "python",
   "pygments_lexer": "ipython3",
   "version": "3.7.1"
  }
 },
 "nbformat": 4,
 "nbformat_minor": 2
}
